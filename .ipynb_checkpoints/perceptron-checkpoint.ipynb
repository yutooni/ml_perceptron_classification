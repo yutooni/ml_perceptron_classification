{
 "cells": [
  {
   "cell_type": "code",
   "execution_count": 1,
   "metadata": {},
   "outputs": [],
   "source": [
    "import numpy as np"
   ]
  },
  {
   "cell_type": "code",
   "execution_count": 2,
   "metadata": {},
   "outputs": [],
   "source": [
    "class Perceptron(object):\n",
    "    \"\"\"パーセプトロンの分類器\n",
    "    \n",
    "    パラメータ\n",
    "    ----------------\n",
    "    eta: float\n",
    "        学習率(0.0より大きく1.0以下の値)\n",
    "    n_inter : int\n",
    "        トレーニングデータのトレーニング回数\n",
    "    \n",
    "    属性\n",
    "    ----------------\n",
    "    w_ : 1次元配列\n",
    "        適合後の重み\n",
    "    errors_: リスト\n",
    "        各エポックでの誤分類\n",
    "    \"\"\"\n",
    "    def __init__(self, eta=0.01, n_inter=10):\n",
    "        self.eta = eta\n",
    "        self.n_inter = n_inter\n",
    "        \n",
    "    def fit(self, X, y):\n",
    "        \"\"\"トレーニングデータに適合させる\n",
    "        \n",
    "        パラメータ\n",
    "        --------------\n",
    "        X : {配列のようなデータ構造}, shape = [n_samples, n_features]\n",
    "            トレーニングデータ\n",
    "            n_sampleはサンプルの個数、n_featureは特徴量の個数\n",
    "        y: 配列のようなデータ構造, shape = [n_samples]\n",
    "            目的変数\n",
    "            \n",
    "        戻り値\n",
    "        ----------\n",
    "        self: object\n",
    "\n",
    "        \"\"\"\n",
    "        self.w_ = np.zeros(1 + X.shape[1])  #重みの初期化（ゼロベクトル)  行列Xの１列目の行数+1　個の0が入ってるベクトル\n",
    "        self.errors_ = []\n",
    "        \n",
    "        for _ in range(self.n_inter):  #トレーニング回数分のトレーニングデータを反復\n",
    "            errors = 0\n",
    "            for xi, target in zip(X, y): #各サンプルで重みを更新\n",
    "                \n",
    "                #重みw1, w2, ...., wmの更新\n",
    "                #wj = n(yi - y_predi)xji (j = 1,..., m)\n",
    "                update = self.eta * (target - self.predict(xi))\n",
    "                self.w_[1:] += update * xi\n",
    "\n",
    "                #重みw0の更新: w0 = n(yi - y_predi)\n",
    "                self.w_[0] += update\n",
    "\n",
    "                #重みの更新が0でない場合は誤分類としてカウント\n",
    "                errors += int(update != 0.0)\n",
    "            \n",
    "            #反復回数ごとの誤差を格納\n",
    "            self.errors_.append(errors)\n",
    "        \n",
    "        return self\n",
    "    \n",
    "    def net_input(self, X):\n",
    "        \"\"\"総入力を計算\"\"\"\n",
    "        return np.dot(X, self.w_[1:]) + self.w_[0]\n",
    "    \n",
    "    def predict(self, X):\n",
    "        \"\"\"1ステップ後のクラスラベルを返す\"\"\"\n",
    "        return np.where(self.net_input(X) >= 0.0, 1, -1)\n",
    "\n",
    "            "
   ]
  },
  {
   "cell_type": "code",
   "execution_count": 3,
   "metadata": {},
   "outputs": [],
   "source": [
    "import pandas  as pd\n",
    "import ssl\n",
    "\n",
    "ssl._create_default_https_context = ssl._create_unverified_context"
   ]
  },
  {
   "cell_type": "code",
   "execution_count": 4,
   "metadata": {},
   "outputs": [],
   "source": [
    "df = pd.read_csv('https://archive.ics.uci.edu/ml/machine-learning-databases/iris/iris.data', header=None)\n",
    "# サンプルデータ　花の分類"
   ]
  },
  {
   "cell_type": "code",
   "execution_count": 5,
   "metadata": {},
   "outputs": [
    {
     "data": {
      "text/html": [
       "<div>\n",
       "<style scoped>\n",
       "    .dataframe tbody tr th:only-of-type {\n",
       "        vertical-align: middle;\n",
       "    }\n",
       "\n",
       "    .dataframe tbody tr th {\n",
       "        vertical-align: top;\n",
       "    }\n",
       "\n",
       "    .dataframe thead th {\n",
       "        text-align: right;\n",
       "    }\n",
       "</style>\n",
       "<table border=\"1\" class=\"dataframe\">\n",
       "  <thead>\n",
       "    <tr style=\"text-align: right;\">\n",
       "      <th></th>\n",
       "      <th>0</th>\n",
       "      <th>1</th>\n",
       "      <th>2</th>\n",
       "      <th>3</th>\n",
       "      <th>4</th>\n",
       "    </tr>\n",
       "  </thead>\n",
       "  <tbody>\n",
       "    <tr>\n",
       "      <th>145</th>\n",
       "      <td>6.7</td>\n",
       "      <td>3.0</td>\n",
       "      <td>5.2</td>\n",
       "      <td>2.3</td>\n",
       "      <td>Iris-virginica</td>\n",
       "    </tr>\n",
       "    <tr>\n",
       "      <th>146</th>\n",
       "      <td>6.3</td>\n",
       "      <td>2.5</td>\n",
       "      <td>5.0</td>\n",
       "      <td>1.9</td>\n",
       "      <td>Iris-virginica</td>\n",
       "    </tr>\n",
       "    <tr>\n",
       "      <th>147</th>\n",
       "      <td>6.5</td>\n",
       "      <td>3.0</td>\n",
       "      <td>5.2</td>\n",
       "      <td>2.0</td>\n",
       "      <td>Iris-virginica</td>\n",
       "    </tr>\n",
       "    <tr>\n",
       "      <th>148</th>\n",
       "      <td>6.2</td>\n",
       "      <td>3.4</td>\n",
       "      <td>5.4</td>\n",
       "      <td>2.3</td>\n",
       "      <td>Iris-virginica</td>\n",
       "    </tr>\n",
       "    <tr>\n",
       "      <th>149</th>\n",
       "      <td>5.9</td>\n",
       "      <td>3.0</td>\n",
       "      <td>5.1</td>\n",
       "      <td>1.8</td>\n",
       "      <td>Iris-virginica</td>\n",
       "    </tr>\n",
       "  </tbody>\n",
       "</table>\n",
       "</div>"
      ],
      "text/plain": [
       "       0    1    2    3               4\n",
       "145  6.7  3.0  5.2  2.3  Iris-virginica\n",
       "146  6.3  2.5  5.0  1.9  Iris-virginica\n",
       "147  6.5  3.0  5.2  2.0  Iris-virginica\n",
       "148  6.2  3.4  5.4  2.3  Iris-virginica\n",
       "149  5.9  3.0  5.1  1.8  Iris-virginica"
      ]
     },
     "execution_count": 5,
     "metadata": {},
     "output_type": "execute_result"
    }
   ],
   "source": [
    "df.tail()"
   ]
  },
  {
   "cell_type": "code",
   "execution_count": 6,
   "metadata": {},
   "outputs": [],
   "source": [
    "import matplotlib.pyplot as plt"
   ]
  },
  {
   "cell_type": "code",
   "execution_count": 7,
   "metadata": {},
   "outputs": [],
   "source": [
    "#1-100行目の目的変数の抽出\n",
    "y = df.iloc[0:100, 4].values"
   ]
  },
  {
   "cell_type": "code",
   "execution_count": 8,
   "metadata": {},
   "outputs": [],
   "source": [
    "# Iris-setosaを-1, Iris-Virginicaを1に変換\n",
    "y = np.where(y == 'Iris-setosa', -1, 1)"
   ]
  },
  {
   "cell_type": "code",
   "execution_count": 9,
   "metadata": {},
   "outputs": [],
   "source": [
    "#1-100行目の1,3列目の抽出\n",
    "X = df.iloc[0:100, [0,2]].values"
   ]
  },
  {
   "cell_type": "code",
   "execution_count": 10,
   "metadata": {},
   "outputs": [
    {
     "data": {
      "image/png": "[encoded data removed]",
      "text/plain": [
       "<Figure size 432x288 with 1 Axes>"
      ]
     },
     "metadata": {
      "needs_background": "light"
     },
     "output_type": "display_data"
    }
   ],
   "source": [
    "# 品種setosaのプロット(赤の◯)\n",
    "plt.scatter(X[:50,0], X[:50,1], color='red', marker='o', label='setosa')\n",
    "# 品種versicolorのプロット(青のx)\n",
    "plt.scatter(X[50:100, 0], X[50:100, 1], color='blue', marker='x', label='versicolor')\n",
    "# 軸ラベルの設定\n",
    "plt.xlabel('sepal length [cm]')\n",
    "plt.ylabel('petal length [cm]')\n",
    "#凡例の設定（左上に配置）\n",
    "plt.legend(loc='upper left')\n",
    "plt.show() "
   ]
  },
  {
   "cell_type": "code",
   "execution_count": 11,
   "metadata": {},
   "outputs": [],
   "source": [
    "# パーセプトロンオブジェクトの作成（インスタンス化）\n",
    "ppn = Perceptron(eta=0.1, n_inter=10)"
   ]
  },
  {
   "cell_type": "code",
   "execution_count": null,
   "metadata": {},
   "outputs": [
    {
     "name": "stdout",
     "output_type": "stream",
     "text": [
      "--Return--\n",
      "None\n",
      "> \u001b[0;32m<ipython-input-12-b8339fcc2feb>\u001b[0m(1)\u001b[0;36m<module>\u001b[0;34m()\u001b[0m\n",
      "\u001b[0;32m----> 1 \u001b[0;31m\u001b[0;32mfrom\u001b[0m \u001b[0mIPython\u001b[0m\u001b[0;34m.\u001b[0m\u001b[0mcore\u001b[0m\u001b[0;34m.\u001b[0m\u001b[0mdebugger\u001b[0m \u001b[0;32mimport\u001b[0m \u001b[0mPdb\u001b[0m\u001b[0;34m;\u001b[0m \u001b[0mPdb\u001b[0m\u001b[0;34m(\u001b[0m\u001b[0;34m)\u001b[0m\u001b[0;34m.\u001b[0m\u001b[0mset_trace\u001b[0m\u001b[0;34m(\u001b[0m\u001b[0;34m)\u001b[0m\u001b[0;34m\u001b[0m\u001b[0;34m\u001b[0m\u001b[0m\n",
      "\u001b[0m\u001b[0;32m      2 \u001b[0;31m\u001b[0;31m#トレーニングデータへのモデルの適合\u001b[0m\u001b[0;34m\u001b[0m\u001b[0;34m\u001b[0m\u001b[0;34m\u001b[0m\u001b[0m\n",
      "\u001b[0m\u001b[0;32m      3 \u001b[0;31m\u001b[0mppn\u001b[0m\u001b[0;34m.\u001b[0m\u001b[0mfit\u001b[0m\u001b[0;34m(\u001b[0m\u001b[0mX\u001b[0m\u001b[0;34m,\u001b[0m \u001b[0my\u001b[0m\u001b[0;34m)\u001b[0m\u001b[0;34m\u001b[0m\u001b[0;34m\u001b[0m\u001b[0m\n",
      "\u001b[0m\n",
      "ipdb> d\n",
      "*** Newest frame\n",
      "ipdb> X\n",
      "array([[5.1, 1.4],\n",
      "       [4.9, 1.4],\n",
      "       [4.7, 1.3],\n",
      "       [4.6, 1.5],\n",
      "       [5. , 1.4],\n",
      "       [5.4, 1.7],\n",
      "       [4.6, 1.4],\n",
      "       [5. , 1.5],\n",
      "       [4.4, 1.4],\n",
      "       [4.9, 1.5],\n",
      "       [5.4, 1.5],\n",
      "       [4.8, 1.6],\n",
      "       [4.8, 1.4],\n",
      "       [4.3, 1.1],\n",
      "       [5.8, 1.2],\n",
      "       [5.7, 1.5],\n",
      "       [5.4, 1.3],\n",
      "       [5.1, 1.4],\n",
      "       [5.7, 1.7],\n",
      "       [5.1, 1.5],\n",
      "       [5.4, 1.7],\n",
      "       [5.1, 1.5],\n",
      "       [4.6, 1. ],\n",
      "       [5.1, 1.7],\n",
      "       [4.8, 1.9],\n",
      "       [5. , 1.6],\n",
      "       [5. , 1.6],\n",
      "       [5.2, 1.5],\n",
      "       [5.2, 1.4],\n",
      "       [4.7, 1.6],\n",
      "       [4.8, 1.6],\n",
      "       [5.4, 1.5],\n",
      "       [5.2, 1.5],\n",
      "       [5.5, 1.4],\n",
      "       [4.9, 1.5],\n",
      "       [5. , 1.2],\n",
      "       [5.5, 1.3],\n",
      "       [4.9, 1.5],\n",
      "       [4.4, 1.3],\n",
      "       [5.1, 1.5],\n",
      "       [5. , 1.3],\n",
      "       [4.5, 1.3],\n",
      "       [4.4, 1.3],\n",
      "       [5. , 1.6],\n",
      "       [5.1, 1.9],\n",
      "       [4.8, 1.4],\n",
      "       [5.1, 1.6],\n",
      "       [4.6, 1.4],\n",
      "       [5.3, 1.5],\n",
      "       [5. , 1.4],\n",
      "       [7. , 4.7],\n",
      "       [6.4, 4.5],\n",
      "       [6.9, 4.9],\n",
      "       [5.5, 4. ],\n",
      "       [6.5, 4.6],\n",
      "       [5.7, 4.5],\n",
      "       [6.3, 4.7],\n",
      "       [4.9, 3.3],\n",
      "       [6.6, 4.6],\n",
      "       [5.2, 3.9],\n",
      "       [5. , 3.5],\n",
      "       [5.9, 4.2],\n",
      "       [6. , 4. ],\n",
      "       [6.1, 4.7],\n",
      "       [5.6, 3.6],\n",
      "       [6.7, 4.4],\n",
      "       [5.6, 4.5],\n",
      "       [5.8, 4.1],\n",
      "       [6.2, 4.5],\n",
      "       [5.6, 3.9],\n",
      "       [5.9, 4.8],\n",
      "       [6.1, 4. ],\n",
      "       [6.3, 4.9],\n",
      "       [6.1, 4.7],\n",
      "       [6.4, 4.3],\n",
      "       [6.6, 4.4],\n",
      "       [6.8, 4.8],\n",
      "       [6.7, 5. ],\n",
      "       [6. , 4.5],\n",
      "       [5.7, 3.5],\n",
      "       [5.5, 3.8],\n",
      "       [5.5, 3.7],\n",
      "       [5.8, 3.9],\n",
      "       [6. , 5.1],\n",
      "       [5.4, 4.5],\n",
      "       [6. , 4.5],\n",
      "       [6.7, 4.7],\n",
      "       [6.3, 4.4],\n",
      "       [5.6, 4.1],\n",
      "       [5.5, 4. ],\n",
      "       [5.5, 4.4],\n",
      "       [6.1, 4.6],\n",
      "       [5.8, 4. ],\n",
      "       [5. , 3.3],\n",
      "       [5.6, 4.2],\n",
      "       [5.7, 4.2],\n",
      "       [5.7, 4.2],\n",
      "       [6.2, 4.3],\n",
      "       [5.1, 3. ],\n",
      "       [5.7, 4.1]])\n"
     ]
    }
   ],
   "source": [
    "from IPython.core.debugger import Pdb; Pdb().set_trace()\n",
    "#トレーニングデータへのモデルの適合\n",
    "ppn.fit(X, y)"
   ]
  },
  {
   "cell_type": "code",
   "execution_count": 70,
   "metadata": {},
   "outputs": [
    {
     "data": {
      "image/png": "[encoded data removed]",
      "text/plain": [
       "<Figure size 432x288 with 1 Axes>"
      ]
     },
     "metadata": {
      "needs_background": "light"
     },
     "output_type": "display_data"
    }
   ],
   "source": [
    "#エポックと誤分類誤差の関係の折れ線グラフをプロット\n",
    "plt.plot(range(1, len(ppn.errors_)+1), ppn.errors_, marker='o')\n",
    "#軸ラベルの設定\n",
    "plt.xlabel('Epochs')\n",
    "plt.ylabel('Number of misclassifications')\n",
    "# 図の表示\n",
    "plt.show()"
   ]
  },
  {
   "cell_type": "code",
   "execution_count": 71,
   "metadata": {},
   "outputs": [],
   "source": [
    "from matplotlib.colors import ListedColormap"
   ]
  },
  {
   "cell_type": "code",
   "execution_count": 81,
   "metadata": {},
   "outputs": [],
   "source": [
    "def plot_decision_regions(X, y, classifier, resolution=0.02):\n",
    "    #マーカーとカラーマップの準備\n",
    "    markers = ('s', 'x', 'o', '^', 'v')\n",
    "    colors = ('red', 'blue', 'lightgreen', 'gray', 'cyan')\n",
    "    cmap = ListedColormap(colors[:len(np.unique(y))])\n",
    "    #決定領域のプロット\n",
    "    x1_min, x1_max = X[:, 0].min() - 1, X[:, 0].max() + 1\n",
    "    x2_min, x2_max = X[:, 1].min() - 1, X[:, 1].max() + 1\n",
    "    #グリッドポイントの作成\n",
    "    xx1, xx2 = np.meshgrid(np.arange(x1_min, x1_max, resolution),np.arange(x2_min, x2_max, resolution))\n",
    "    #各特徴量を１次元配列に変換して予測を実行\n",
    "    Z = classifier.predict(np.array([xx1.ravel(), xx2.ravel()]).T)\n",
    "    #予測結果を元のグリッドポイントのデータサイズに変換\n",
    "    Z = Z.reshape(xx1.shape)\n",
    "    #グリッドポイントの等高線のプロット\n",
    "    plt.contourf(xx1, xx2, Z, alpha=0.4, cmap=cmap)\n",
    "    #軸の範囲の設定\n",
    "    plt.xlim(xx1.min(), xx1.max())\n",
    "    plt.ylim(xx2.min(), xx2.max())\n",
    "    \n",
    "    #クラスごとにサンプルをプロット：\n",
    "    for idx, cl in enumerate(np.unique(y)):\n",
    "        plt.scatter(x=X[y == cl, 0], y=X[y ==cl, 1], alpha=0.8, c=cmap(idx), marker=markers[idx], label=cl)"
   ]
  },
  {
   "cell_type": "code",
   "execution_count": 82,
   "metadata": {},
   "outputs": [
    {
     "name": "stderr",
     "output_type": "stream",
     "text": [
      "'c' argument looks like a single numeric RGB or RGBA sequence, which should be avoided as value-mapping will have precedence in case its length matches with 'x' & 'y'.  Please use a 2-D array with a single row if you really want to specify the same RGB or RGBA value for all points.\n",
      "'c' argument looks like a single numeric RGB or RGBA sequence, which should be avoided as value-mapping will have precedence in case its length matches with 'x' & 'y'.  Please use a 2-D array with a single row if you really want to specify the same RGB or RGBA value for all points.\n"
     ]
    },
    {
     "data": {
      "image/png": "[encoded data removed]",
      "text/plain": [
       "<Figure size 432x288 with 1 Axes>"
      ]
     },
     "metadata": {
      "needs_background": "light"
     },
     "output_type": "display_data"
    }
   ],
   "source": [
    "#決定領域のプロット\n",
    "plot_decision_regions(X, y, classifier=ppn)\n",
    "#軸のラベルの設定\n",
    "plt.xlabel('sepal length [cm]')\n",
    "plt.ylabel('petal length [cm]')\n",
    "#凡例の表示\n",
    "plt.legend(loc='upper left')\n",
    "#図の表示\n",
    "plt.show()"
   ]
  },
  {
   "cell_type": "code",
   "execution_count": null,
   "metadata": {},
   "outputs": [],
   "source": []
  }
 ],
 "metadata": {
  "kernelspec": {
   "display_name": "Python 3",
   "language": "python",
   "name": "python3"
  },
  "language_info": {
   "codemirror_mode": {
    "name": "ipython",
    "version": 3
   },
   "file_extension": ".py",
   "mimetype": "text/x-python",
   "name": "python",
   "nbconvert_exporter": "python",
   "pygments_lexer": "ipython3",
   "version": "3.7.3"
  }
 },
 "nbformat": 4,
 "nbformat_minor": 2
}
