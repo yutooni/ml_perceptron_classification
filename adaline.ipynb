{
 "cells": [
  {
   "cell_type": "code",
   "execution_count": 7,
   "metadata": {},
   "outputs": [],
   "source": [
    "import numpy as np"
   ]
  },
  {
   "cell_type": "code",
   "execution_count": 8,
   "metadata": {},
   "outputs": [],
   "source": [
    "class AdalineGD(object):\n",
    "    \"\"\"ADAptive LInear NEuronの分類器\n",
    "    \n",
    "    パラメータ\n",
    "    ----------------\n",
    "    eta: float\n",
    "        学習率(0.0より大きく1.0以下の値)\n",
    "    n_inter : int\n",
    "        トレーニングデータのトレーニング回数\n",
    "    \n",
    "    属性\n",
    "    ----------------\n",
    "    w_ : 1次元配列\n",
    "        適合後の重み\n",
    "    errors_: リスト\n",
    "        各エポックでの誤分類数\n",
    "    \"\"\"\n",
    "    def __init__(self, eta=0.01, n_inter=50):\n",
    "        self.eta = eta\n",
    "        self.n_inter = n_inter\n",
    "        \n",
    "    def fit(self, X, y):\n",
    "        \"\"\"トレーニングデータに適合させる\n",
    "        \n",
    "        パラメータ\n",
    "        --------------\n",
    "        X : {配列のようなデータ構造}, shape = [n_samples, n_features]\n",
    "            トレーニングデータ\n",
    "            n_sampleはサンプルの個数、n_featureは特徴量の個数\n",
    "        y: 配列のようなデータ構造, shape = [n_samples]\n",
    "            目的変数\n",
    "            \n",
    "        戻り値\n",
    "        ----------\n",
    "        self: object\n",
    "\n",
    "        \"\"\"\n",
    "        self.w_ = np.zeros(1 + X.shape[1])  #重みの初期化（ゼロベクトル)  行列Xの１列目の行数+1　個の0が入ってるベクトル\n",
    "        self.cost_ = []\n",
    "        \n",
    "        for _ in range(self.n_inter):  #トレーニング回数分のトレーニングデータを反復\n",
    "            #活性化関数の出力計算 f(wtx) = wtx\n",
    "            output = self.net_input(X)\n",
    "            #誤差 yi - f(zi) の計算\n",
    "            errors = (y - output)\n",
    "            #w1, ..., wmの更新\n",
    "            # Δwj = nΣi(yi - f(zi))xij (j = 1, ..., m)\n",
    "            self.w_[1:] += self.eta * X.T.dot(errors)\n",
    "            #w0の更新 Δw0 = nΣi(yi - f(zi))\n",
    "            self.w_[0] += self.eta * errors.sum()\n",
    "            #コスト関数の計算 J(w) = 1/2  Σi(yi - f(zi))**2\n",
    "            cost = (errors**2).sum() / 2.0\n",
    "            #コストの格納\n",
    "            self.cost_.append(cost)\n",
    "        return self\n",
    "    \n",
    "    def net_input(self, X):\n",
    "        \"\"\"総入力を計算\"\"\"\n",
    "        return np.dot(X, self.w_[1:]) + self.w_[0]\n",
    "    \n",
    "    def activation(self, X):\n",
    "        \"\"\"線形活性化関数の出力を計算\"\"\"\n",
    "        return self.net_input(X)\n",
    "    \n",
    "    def predict(self, X):\n",
    "        \"\"\"1ステップ後のクラスラベルを返す\"\"\"\n",
    "        return np.where(self.activation(X) >= 0.0, 1, -1)"
   ]
  },
  {
   "cell_type": "code",
   "execution_count": 9,
   "metadata": {},
   "outputs": [],
   "source": [
    "import pandas  as pd\n",
    "import ssl\n",
    "\n",
    "ssl._create_default_https_context = ssl._create_unverified_context"
   ]
  },
  {
   "cell_type": "code",
   "execution_count": 10,
   "metadata": {},
   "outputs": [],
   "source": [
    "df = pd.read_csv('https://archive.ics.uci.edu/ml/machine-learning-databases/iris/iris.data', header=None)\n",
    "# サンプルデータ　花の分類"
   ]
  },
  {
   "cell_type": "code",
   "execution_count": 11,
   "metadata": {},
   "outputs": [],
   "source": [
    "import matplotlib.pyplot as plt"
   ]
  },
  {
   "cell_type": "code",
   "execution_count": 12,
   "metadata": {},
   "outputs": [],
   "source": [
    "#1-100行目の目的変数の抽出\n",
    "y = df.iloc[0:100, 4].values"
   ]
  },
  {
   "cell_type": "code",
   "execution_count": 13,
   "metadata": {},
   "outputs": [],
   "source": [
    "# Iris-setosaを-1, Iris-Virginicaを1に変換\n",
    "y = np.where(y == 'Iris-setosa', -1, 1)"
   ]
  },
  {
   "cell_type": "code",
   "execution_count": 14,
   "metadata": {},
   "outputs": [],
   "source": [
    "#1-100行目の1,3列目の抽出\n",
    "X = df.iloc[0:100, [0,2]].values"
   ]
  },
  {
   "cell_type": "code",
   "execution_count": 17,
   "metadata": {},
   "outputs": [
    {
     "data": {
      "image/png": "[encoded data removed]",
      "text/plain": [
       "<Figure size 576x288 with 2 Axes>"
      ]
     },
     "metadata": {
      "needs_background": "light"
     },
     "output_type": "display_data"
    }
   ],
   "source": [
    "# 描写領域を1行2列に分割\n",
    "fig, ax = plt.subplots(nrows=1, ncols=2, figsize=(8, 4))\n",
    "#勾配降下法によるADALINEの学習(学習率 eta=0.01)\n",
    "ada1 = AdalineGD(n_inter=10, eta=0.01).fit(X, y)\n",
    "#エポック数とコストの関係を表す折れ線グラフのプロット(縦軸のコストは常用対数)\n",
    "ax[0].plot(range(1,len(ada1.cost_)+1), np.log10(ada1.cost_), marker='o')\n",
    "#軸のラベルの設定\n",
    "ax[0].set_xlabel('Epochs')\n",
    "ax[0].set_ylabel('log(Sum-squared-error)')\n",
    "#タイトルの設定\n",
    "ax[0].set_title('Adaline - Learning rate 0.01')\n",
    "#勾配降下法によるADALINEの学習(学習率 eta=0.0001)\n",
    "ada2 = AdalineGD(n_inter=10, eta=0.0001).fit(X, y)\n",
    "#エポック数とコストの関係を表す折れ線グラフのプロット(縦軸のコストは常用対数)\n",
    "ax[1].plot(range(1,len(ada2.cost_)+1), np.log10(ada2.cost_), marker='o')\n",
    "#軸のラベルの設定\n",
    "ax[1].set_xlabel('Epochs')\n",
    "ax[1].set_ylabel('log(Sum-squared-error)')\n",
    "#タイトルの設定\n",
    "ax[1].set_title('Adaline - Learning rate 0.0001')\n",
    "#図の表示\n",
    "plt.show()"
   ]
  },
  {
   "cell_type": "code",
   "execution_count": 19,
   "metadata": {},
   "outputs": [],
   "source": [
    "###特徴量のスケーリング（標準化）\n",
    "#データのコピー\n",
    "X_std = np.copy(X)\n",
    "#各列の標準化\n",
    "X_std[:,0] = (X[:,0] - X[:,0].mean()) / X[:,0].std()\n",
    "X_std[:,1] = (X[:,1] - X[:,1].mean()) / X[:,1].std()"
   ]
  },
  {
   "cell_type": "code",
   "execution_count": 21,
   "metadata": {},
   "outputs": [],
   "source": [
    "from matplotlib.colors import ListedColormap\n",
    "\n",
    "def plot_decision_regions(X, y, classifier, resolution=0.02):\n",
    "    #マーカーとカラーマップの準備\n",
    "    markers = ('s', 'x', 'o', '^', 'v')\n",
    "    colors = ('red', 'blue', 'lightgreen', 'gray', 'cyan')\n",
    "    cmap = ListedColormap(colors[:len(np.unique(y))])\n",
    "    #決定領域のプロット\n",
    "    x1_min, x1_max = X[:, 0].min() - 1, X[:, 0].max() + 1\n",
    "    x2_min, x2_max = X[:, 1].min() - 1, X[:, 1].max() + 1\n",
    "    #グリッドポイントの作成\n",
    "    xx1, xx2 = np.meshgrid(np.arange(x1_min, x1_max, resolution),np.arange(x2_min, x2_max, resolution))\n",
    "    #各特徴量を１次元配列に変換して予測を実行\n",
    "    Z = classifier.predict(np.array([xx1.ravel(), xx2.ravel()]).T)\n",
    "    #予測結果を元のグリッドポイントのデータサイズに変換\n",
    "    Z = Z.reshape(xx1.shape)\n",
    "    #グリッドポイントの等高線のプロット\n",
    "    plt.contourf(xx1, xx2, Z, alpha=0.4, cmap=cmap)\n",
    "    #軸の範囲の設定\n",
    "    plt.xlim(xx1.min(), xx1.max())\n",
    "    plt.ylim(xx2.min(), xx2.max())\n",
    "    \n",
    "    #クラスごとにサンプルをプロット：\n",
    "    for idx, cl in enumerate(np.unique(y)):\n",
    "        plt.scatter(x=X[y == cl, 0], y=X[y ==cl, 1], alpha=0.8, c=cmap(idx), marker=markers[idx], label=cl)"
   ]
  },
  {
   "cell_type": "code",
   "execution_count": null,
   "metadata": {},
   "outputs": [],
   "source": []
  },
  {
   "cell_type": "code",
   "execution_count": 26,
   "metadata": {},
   "outputs": [
    {
     "name": "stderr",
     "output_type": "stream",
     "text": [
      "'c' argument looks like a single numeric RGB or RGBA sequence, which should be avoided as value-mapping will have precedence in case its length matches with 'x' & 'y'.  Please use a 2-D array with a single row if you really want to specify the same RGB or RGBA value for all points.\n",
      "'c' argument looks like a single numeric RGB or RGBA sequence, which should be avoided as value-mapping will have precedence in case its length matches with 'x' & 'y'.  Please use a 2-D array with a single row if you really want to specify the same RGB or RGBA value for all points.\n"
     ]
    },
    {
     "data": {
      "image/png": "[encoded data removed]",
      "text/plain": [
       "<Figure size 432x288 with 1 Axes>"
      ]
     },
     "metadata": {
      "needs_background": "light"
     },
     "output_type": "display_data"
    },
    {
     "data": {
      "image/png": "[encoded data removed]",
      "text/plain": [
       "<Figure size 432x288 with 1 Axes>"
      ]
     },
     "metadata": {
      "needs_background": "light"
     },
     "output_type": "display_data"
    }
   ],
   "source": [
    "#勾配降下法によるAdalineの学習（標準化後　学習率 eta=0.01)\n",
    "ada = AdalineGD(n_inter=12, eta=0.01)\n",
    "#モデルの適合\n",
    "ada.fit(X_std, y)\n",
    "#境界領域のプロット\n",
    "plot_decision_regions(X_std, y, classifier=ada)\n",
    "#タイトルの設定\n",
    "plt.title('Adaline - Gradient Descent')\n",
    "#軸ラベルの設定\n",
    "plt.xlabel('sepal length [standardized]')\n",
    "plt.ylabel('petal length [standardized]')\n",
    "#凡例の表示\n",
    "plt.legend(loc='upper left')\n",
    "#図の表示\n",
    "plt.show()\n",
    "#エポック数とコストの関係を表す折れ線グラフのプロット\n",
    "plt.plot(range(1, len(ada.cost_)+1), ada.cost_, marker='o')\n",
    "#軸ラベルの設定\n",
    "plt.xlabel('epochs')\n",
    "plt.ylabel('Sum-squared-error')\n",
    "#図の表示\n",
    "plt.show()"
   ]
  },
  {
   "cell_type": "markdown",
   "metadata": {},
   "source": [
    "＃＃＃　確率的勾配降下法　＃＃＃"
   ]
  },
  {
   "cell_type": "code",
   "execution_count": 33,
   "metadata": {},
   "outputs": [],
   "source": [
    "from numpy.random import seed\n",
    "\n",
    "class AdalineSGD(object):\n",
    "    \"\"\"ADAptive LInear NEuronの分類器\n",
    "    \n",
    "    パラメータ\n",
    "    ----------------\n",
    "    eta: float\n",
    "        学習率(0.0より大きく1.0以下の値)\n",
    "    n_inter : int\n",
    "        トレーニングデータのトレーニング回数\n",
    "    \n",
    "    属性\n",
    "    ----------------\n",
    "    w_ : 1次元配列\n",
    "        適合後の重み\n",
    "    errors_: リスト\n",
    "        各エポックでの誤分類数\n",
    "    shuffle : bool (デフォルト: True)\n",
    "        循環を回避するために各エポックでトレーニングデータをシャッフル\n",
    "    random_state : int (デフォルト: None)\n",
    "        シャッフルに使用するランダムステートを設定し、重みを初期化\n",
    "        \n",
    "    \"\"\"\n",
    "    def __init__(self, eta=0.01, n_inter=10, shuffle=True, random_state=None):\n",
    "        #学習率の初期化\n",
    "        self.eta = eta\n",
    "        #トレーニング回数の初期化\n",
    "        self.n_inter = n_inter\n",
    "        #重みの初期化フラグはFalseに設定\n",
    "        self.w_initialized = False\n",
    "        #各エポックでトレーニングデータをシャッフルするかどうかのフラグを初期化\n",
    "        self.shuffle = shuffle\n",
    "        #引数random_stateが指定された場合は乱数値を設定\n",
    "        if random_state:\n",
    "            seed(random_state)\n",
    "        \n",
    "    def fit(self, X, y):\n",
    "        \"\"\"トレーニングデータに適合させる\n",
    "        \n",
    "        パラメータ\n",
    "        --------------\n",
    "        X : {配列のようなデータ構造}, shape = [n_samples, n_features]\n",
    "            トレーニングデータ\n",
    "            n_sampleはサンプルの個数、n_featureは特徴量の個数\n",
    "        y: 配列のようなデータ構造, shape = [n_samples]\n",
    "            目的変数\n",
    "            \n",
    "        戻り値\n",
    "        ----------\n",
    "        self: object\n",
    "\n",
    "        \"\"\"\n",
    "        #重みベクトルの生成\n",
    "        self._initialized_weights(X.shape[1])\n",
    "        #コストを格納するリストの生成\n",
    "        self.cost_ = []\n",
    "        \n",
    "        #トレーニング回数分のトレーニングデータを反復\n",
    "        for _ in range(self.n_inter): \n",
    "            #指定された場合はトレーニングデータをシャッフル\n",
    "            if self.shuffle:\n",
    "                X, y = self._shuffle(X, y)\n",
    "            #各サンプルのコストを格納するリストの生成\n",
    "            cost = []\n",
    "            #各サンプルに対する計算\n",
    "            for xi, target in zip(X, y):\n",
    "                #特徴量xi　と　目的変数y　を用いた重みの更新とコストの計算\n",
    "                cost.append(self._update_weights(xi, target))\n",
    "            #サンプルの平均コストの計算\n",
    "            avg_cost = sum(cost)/ len(y)\n",
    "            #平均コストの格納\n",
    "            self.cost_.append(avg_cost)\n",
    "        return self\n",
    "    \n",
    "    def partial_fit(self, X, y):\n",
    "        \"\"\"重みを再初期化することなくトレーニングデータに適合させる\"\"\"\n",
    "        #初期化されていない場合は初期化を実行\n",
    "        if not self.w_initialized:\n",
    "            self._initialized_weights(X.shape[1])\n",
    "        #目的変数yの要素数が2以上の場合は各サンプルの特徴量xiと目的変数targetで重みを更新\n",
    "        if y.ravel().shape[0] > 1:\n",
    "            for xi, target in zip(X, y):\n",
    "                self._update_weights(xi, target)\n",
    "        #目的変数yの要素数が一つの場合はサンプル全体の特徴量Xと目的変数yで重みを更新\n",
    "        else:\n",
    "            self._update_weights(X, y)\n",
    "        return self\n",
    "    \n",
    "    def _shuffle(self, X, y):\n",
    "        \"\"\"トレーニングデータをシャッフル\"\"\"\n",
    "        r = np.random.permutation(len(y))\n",
    "        return X[r], y[r]\n",
    "    \n",
    "    def _initialized_weights(self, m):\n",
    "        \"\"\"重みを0に初期化\"\"\"\n",
    "        self.w_ = np.zeros(1 + m)\n",
    "        self.w_initialized = True\n",
    "        \n",
    "    def _update_weights(self, xi, target):\n",
    "        \"\"\"ADALINEの学習規則を用いて重みを更新\"\"\"\n",
    "        #活性化関数の出力を計算\n",
    "        output = self.net_input(xi)\n",
    "        #誤差の計算\n",
    "        error = (target - output)\n",
    "        #重み　w1, ..., wm　の更新\n",
    "        self.w_[1:] += self.eta * xi.dot(error)\n",
    "        #重み　w0　の更新\n",
    "        self.w_[0] += self.eta * error\n",
    "        #コストの計算\n",
    "        cost = 0.5 * error**2\n",
    "        return cost\n",
    "    \n",
    "    def net_input(self, X):\n",
    "        \"\"\"総入力を計算\"\"\"\n",
    "        return np.dot(X, self.w_[1:]) + self.w_[0]\n",
    "    \n",
    "    def activation(self, X):\n",
    "        \"\"\"線形活性化関数の出力を計算\"\"\"\n",
    "        return self.net_input(X)\n",
    "    \n",
    "    def predict(self, X):\n",
    "        \"\"\"1ステップ後のクラスラベルを返す\"\"\"\n",
    "        return np.where(self.activation(X) >= 0.0, 1, -1)"
   ]
  },
  {
   "cell_type": "code",
   "execution_count": 39,
   "metadata": {},
   "outputs": [
    {
     "name": "stderr",
     "output_type": "stream",
     "text": [
      "'c' argument looks like a single numeric RGB or RGBA sequence, which should be avoided as value-mapping will have precedence in case its length matches with 'x' & 'y'.  Please use a 2-D array with a single row if you really want to specify the same RGB or RGBA value for all points.\n",
      "'c' argument looks like a single numeric RGB or RGBA sequence, which should be avoided as value-mapping will have precedence in case its length matches with 'x' & 'y'.  Please use a 2-D array with a single row if you really want to specify the same RGB or RGBA value for all points.\n"
     ]
    },
    {
     "data": {
      "image/png": "[encoded data removed]",
      "text/plain": [
       "<Figure size 432x288 with 1 Axes>"
      ]
     },
     "metadata": {
      "needs_background": "light"
     },
     "output_type": "display_data"
    },
    {
     "data": {
      "text/plain": [
       "Text(0, 0.5, 'Average Cost')"
      ]
     },
     "execution_count": 39,
     "metadata": {},
     "output_type": "execute_result"
    },
    {
     "data": {
      "image/png": "[encoded data removed]",
      "text/plain": [
       "<Figure size 432x288 with 1 Axes>"
      ]
     },
     "metadata": {
      "needs_background": "light"
     },
     "output_type": "display_data"
    }
   ],
   "source": [
    "#確率的勾配降下法によるADALINEの学習\n",
    "ada = AdalineSGD(n_inter=15, eta=0.01, random_state=1)\n",
    "#モデルへの適合\n",
    "ada.fit(X_std, y)\n",
    "#境界領域のプロット\n",
    "plot_decision_regions(X_std, y ,classifier=ada)\n",
    "#タイトルの設定\n",
    "plt.title('Adaline - Stochastic Gradient Descent')\n",
    "#軸ラベルの設定\n",
    "plt.xlabel('sepal length [standardized]')\n",
    "plt.ylabel('petal length [standardized]')\n",
    "#凡例の設定\n",
    "plt.legend(loc='upper left')\n",
    "plt.tight_layout()\n",
    "#プロットの表示\n",
    "plt.show()\n",
    "#エポックのコストと折れ線グラフのプロット\n",
    "plt.plot(range(1, len(ada.cost_)+1), ada.cost_, marker='o')\n",
    "#軸ラベルの設定\n",
    "plt.xlabel('Epochs')\n",
    "plt.ylabel('Average Cost')"
   ]
  },
  {
   "cell_type": "code",
   "execution_count": null,
   "metadata": {},
   "outputs": [],
   "source": []
  }
 ],
 "metadata": {
  "kernelspec": {
   "display_name": "Python 3",
   "language": "python",
   "name": "python3"
  },
  "language_info": {
   "codemirror_mode": {
    "name": "ipython",
    "version": 3
   },
   "file_extension": ".py",
   "mimetype": "text/x-python",
   "name": "python",
   "nbconvert_exporter": "python",
   "pygments_lexer": "ipython3",
   "version": "3.7.3"
  }
 },
 "nbformat": 4,
 "nbformat_minor": 2
}
